{
  "nbformat": 4,
  "nbformat_minor": 0,
  "metadata": {
    "colab": {
      "provenance": []
    },
    "kernelspec": {
      "name": "python3",
      "display_name": "Python 3"
    },
    "language_info": {
      "name": "python"
    }
  },
  "cells": [
    {
      "cell_type": "code",
      "source": [
        "!wget https://lodmedia.hb.bizmrg.com/case_files/1128568/train_dataset_soc_dem_train.zip\n",
        "!wget https://lodmedia.hb.bizmrg.com/case_files/1128568/test_dataset_%D0%A2%D0%B5%D1%81%D1%82.zip"
      ],
      "metadata": {
        "id": "lFteKGKioebk"
      },
      "execution_count": null,
      "outputs": []
    },
    {
      "cell_type": "code",
      "source": [
        "!unzip /content/train_dataset_soc_dem_train.zip\n",
        "!unzip /content/test_dataset_Тест.zip"
      ],
      "metadata": {
        "id": "H-3yA_vvoeXz"
      },
      "execution_count": null,
      "outputs": []
    },
    {
      "cell_type": "code",
      "source": [
        "import pandas as pd\n",
        "from joblib import dump, load"
      ],
      "metadata": {
        "id": "iSkYzT8UcuFu"
      },
      "execution_count": 3,
      "outputs": []
    },
    {
      "cell_type": "code",
      "source": [
        "test_events=pd.read_csv('test_events.csv')\n",
        "train_events=pd.read_csv('train_events.csv')\n",
        "train_targets=pd.read_csv('train_targets.csv')\n",
        "subm=pd.read_csv('subm.csv')\n",
        "video_info_v2=pd.read_csv('video_info_v2.csv')\n",
        "tzvoc=load('tzvoc.joblib')\n",
        "tokenizer=load('tokenizer.joblib')"
      ],
      "metadata": {
        "id": "1rX6mqE4oeS8"
      },
      "execution_count": 9,
      "outputs": []
    },
    {
      "cell_type": "code",
      "source": [
        "class PredictSexAge():\n",
        "    def __init__(self, test_events=test_events,train_events=train_events,\n",
        "                 train_targets=train_targets,video_info_v2=video_info_v2,\n",
        "                 tzvoc=tzvoc,tokenizer=tokenizer):\n",
        "        from zoneinfo import ZoneInfo\n",
        "        import pandas as pd\n",
        "        from sklearn.pipeline import Pipeline\n",
        "        from sklearn.feature_extraction.text import TfidfVectorizer\n",
        "        from sklearn.svm import LinearSVC\n",
        "        from sklearn.preprocessing import KBinsDiscretizer\n",
        "        from sklearn.compose import ColumnTransformer\n",
        "        from tqdm import tqdm\n",
        "        tqdm.pandas()\n",
        "\n",
        "        self.test_events=test_events\n",
        "        self.train_events=train_events\n",
        "        self.train_targets=train_targets\n",
        "        self.video_info_v2=video_info_v2\n",
        "        self.tzvoc=tzvoc\n",
        "        self.tokenizer=tokenizer\n",
        "        self.tarvoc={i:dict(zip(train_targets['viewer_uid'],train_targets[i]))\n",
        "                     for i in ['sex', 'age_class']}\n",
        "        self.vidvoc={i:dict(zip(video_info_v2['rutube_video_id'],video_info_v2[i]))\n",
        "                     for i in ['title', 'category', 'duration', 'author_id']}\n",
        "        print('vocs...done')\n",
        "        self.test_events['event_timestamp']=pd.to_datetime(self.test_events['event_timestamp'])\n",
        "        self.train_events['event_timestamp']=pd.to_datetime(self.train_events['event_timestamp'])\n",
        "        def time2local(x):\n",
        "            return x['event_timestamp'].astimezone(ZoneInfo(self.tzvoc[x['region']]))\n",
        "        self.test_events['local_event_timestamp']=pd.to_datetime(self.test_events[['event_timestamp','region']\n",
        "        ].progress_apply(time2local, axis=1), utc=True)\n",
        "        self.train_events['local_event_timestamp']=pd.to_datetime(self.train_events[['event_timestamp','region']\n",
        "        ].progress_apply(time2local, axis=1), utc=True)\n",
        "        self.test_events['local_hour']=self.test_events['local_event_timestamp'].dt.hour\n",
        "        self.test_events['local_dayofweek']=self.test_events['local_event_timestamp'].dt.dayofweek\n",
        "        self.train_events['local_hour']=self.train_events['local_event_timestamp'].dt.hour\n",
        "        self.train_events['local_dayofweek']=self.train_events['local_event_timestamp'].dt.dayofweek\n",
        "        print('time...done')\n",
        "        for i in ['title', 'category', 'duration', 'author_id']:\n",
        "            self.test_events[i]=self.test_events['rutube_video_id'].map(self.vidvoc[i])\n",
        "            self.train_events[i]=self.train_events['rutube_video_id'].map(self.vidvoc[i])\n",
        "        self.test=pd.DataFrame()\n",
        "        self.train=pd.DataFrame()\n",
        "        for i in tqdm(['region', 'ua_device_type', 'ua_client_type',\n",
        "                       'ua_os', 'ua_client_name', 'rutube_video_id',\n",
        "                       'title', 'category', 'author_id',\n",
        "                       'local_hour','local_dayofweek']):\n",
        "            self.train[i]=train_events[i].astype(str).fillna('nan').groupby(\n",
        "                self.train_events['viewer_uid']).agg(lambda x: ' '.join(list(x)))\n",
        "            self.test[i]=train_events[i].astype(str).fillna('nan').groupby(\n",
        "                self.test_events['viewer_uid']).agg(lambda x: ' '.join(list(x)))\n",
        "        for i in tqdm(['total_watchtime','duration']):\n",
        "            self.train[i]=self.train_events[i].groupby(self.train_events['viewer_uid']\n",
        "                        ).median()\n",
        "            self.test[i]=self.test_events[i].groupby(self.test_events['viewer_uid']\n",
        "                        ).median()\n",
        "        self.train['viewer_uid']=self.train.index.tolist()\n",
        "        self.test['viewer_uid']=self.test.index.tolist()\n",
        "        for i in tqdm(['sex', 'age_class']):\n",
        "            self.train[i]=self.train['viewer_uid'].map(self.tarvoc[i])\n",
        "        print('train,test...done')\n",
        "        tw=dict(zip(['region', 'ua_device_type', 'ua_client_type', 'ua_os', 'ua_client_name',\n",
        "       'total_watchtime', 'category', 'duration',\n",
        "       'local_hour', 'local_dayofweek', 'title', 'rutube_video_id',  'author_id'],[.1]*10+[1.]*3))\n",
        "        self.s_pipe=Pipeline([('input',ColumnTransformer([\n",
        "                ('scaler',KBinsDiscretizer(50,strategy='kmeans'),['total_watchtime','duration']),\n",
        "                ]+[(i, TfidfVectorizer(tokenizer=self.tokenizer.tokenize, token_pattern=None),i) for i in ['title']\n",
        "                ]+[(i, TfidfVectorizer(token_pattern='(?u)\\\\b\\\\w+\\\\b'),i) for i in ['region', 'ua_device_type',\n",
        "                'ua_client_type', 'ua_os', 'ua_client_name', 'category',\n",
        "                'local_hour', 'rutube_video_id',  'author_id']], transformer_weights=tw)),\n",
        "               ('rgs',LinearSVC(C=0.01,class_weight='balanced'))\n",
        "                ]).fit(self.train.fillna('nan'),\n",
        "                       self.train['sex'])\n",
        "        self.a_pipe=Pipeline([('input',ColumnTransformer([\n",
        "                ('scaler',KBinsDiscretizer(50,strategy='kmeans'),['total_watchtime','duration']),\n",
        "                ]+[(i, TfidfVectorizer(tokenizer=self.tokenizer.tokenize, token_pattern=None),i) for i in ['title']\n",
        "                ]+[(i, TfidfVectorizer(token_pattern='(?u)\\\\b\\\\w+\\\\b'),i) for i in ['region', 'ua_device_type',\n",
        "                'ua_client_type', 'ua_os', 'ua_client_name', 'category',\n",
        "                'local_hour', 'local_dayofweek', 'rutube_video_id',  'author_id']], transformer_weights=tw)),\n",
        "               ('rgs',LinearSVC(C=.1,class_weight='balanced'))\n",
        "                ]).fit(self.train.fillna('nan'),\n",
        "                       self.train['age_class'])\n",
        "        print('pipes.fit...done')\n",
        "    def predict(self,X):\n",
        "        test=self.test.loc[X['viewer_uid'].tolist()]\n",
        "        X['sex']=self.s_pipe.predict(test)\n",
        "        X['age_class']=self.a_pipe.predict(test)\n",
        "        return X"
      ],
      "metadata": {
        "id": "59S_iVmkblK-"
      },
      "execution_count": 10,
      "outputs": []
    },
    {
      "cell_type": "code",
      "source": [
        "psa=PredictSexAge()"
      ],
      "metadata": {
        "colab": {
          "base_uri": "https://localhost:8080/"
        },
        "id": "uPaJ4D_3d97c",
        "outputId": "d0c634ab-3c06-4891-b6b0-4ddd9b7c9cb6"
      },
      "execution_count": null,
      "outputs": [
        {
          "output_type": "stream",
          "name": "stdout",
          "text": [
            "vocs...done\n"
          ]
        },
        {
          "output_type": "stream",
          "name": "stderr",
          "text": [
            "100%|██████████| 587735/587735 [00:09<00:00, 58914.41it/s]\n",
            "100%|██████████| 1759616/1759616 [00:27<00:00, 64441.74it/s] \n"
          ]
        },
        {
          "output_type": "stream",
          "name": "stdout",
          "text": [
            "time...done\n"
          ]
        },
        {
          "output_type": "stream",
          "name": "stderr",
          "text": [
            "100%|██████████| 11/11 [00:53<00:00,  4.82s/it]\n",
            "100%|██████████| 2/2 [00:00<00:00,  4.91it/s]\n",
            "100%|██████████| 2/2 [00:00<00:00, 11.54it/s]\n"
          ]
        },
        {
          "output_type": "stream",
          "name": "stdout",
          "text": [
            "train,test...done\n"
          ]
        },
        {
          "output_type": "stream",
          "name": "stderr",
          "text": [
            "Token indices sequence length is longer than the specified maximum sequence length for this model (2134 > 2048). Running this sequence through the model will result in indexing errors\n"
          ]
        }
      ]
    },
    {
      "cell_type": "code",
      "source": [
        "sub=psa.predict(subm)"
      ],
      "metadata": {
        "id": "ovC5ClmVgLFV"
      },
      "execution_count": null,
      "outputs": []
    },
    {
      "cell_type": "code",
      "source": [
        "subm.to_csv('sub.csv',index=False)"
      ],
      "metadata": {
        "id": "mlqNxKBqgLN8"
      },
      "execution_count": null,
      "outputs": []
    }
  ]
}